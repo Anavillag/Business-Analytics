{
  "cells": [
    {
      "cell_type": "markdown",
      "metadata": {
        "id": "view-in-github",
        "colab_type": "text"
      },
      "source": [
        "<a href=\"https://colab.research.google.com/github/Anavillag/Business-Analytics/blob/main/1_2_Reto_1_Modelo_Naive_Bayes.ipynb\" target=\"_parent\"><img src=\"https://colab.research.google.com/assets/colab-badge.svg\" alt=\"Open In Colab\"/></a>"
      ]
    },
    {
      "cell_type": "markdown",
      "metadata": {
        "id": "faJ5pOX1sDFT"
      },
      "source": [
        "**Reto 1 - Naive Bayes**\n",
        "\n",
        "0. Cargar las librerias de trabajo\n"
      ]
    },
    {
      "cell_type": "code",
      "execution_count": null,
      "metadata": {
        "id": "gtDG7p6Rlkzq"
      },
      "outputs": [],
      "source": [
        "import numpy as np  #Funciones matematicas\n",
        "import pandas as pd #Conexiones conarchivos de excel\n",
        "\n",
        "from sklearn.naive_bayes import GaussianNB #Modelo Gaussian Naive Bayes\n",
        "from sklearn.metrics import confusion_matrix #Metricas- Como lo voy a evaluar\n",
        "\n"
      ]
    },
    {
      "cell_type": "markdown",
      "metadata": {
        "id": "_oyrGHGXsB2D"
      },
      "source": [
        "1. Se procede con la carga de los datos"
      ]
    },
    {
      "cell_type": "code",
      "execution_count": null,
      "metadata": {
        "id": "tpl4gSotsfUs",
        "colab": {
          "base_uri": "https://localhost:8080/"
        },
        "outputId": "7919dfee-e368-4d09-d839-a7ac3fd65062"
      },
      "outputs": [
        {
          "output_type": "stream",
          "name": "stdout",
          "text": [
            "Highway\n",
            "0          100.0\n",
            "Name: count, dtype: float64\n"
          ]
        }
      ],
      "source": [
        "nxl='/content/1. BD2_CarCrash_Int.xlsx'\n",
        "XDB= pd.read_excel(nxl, sheet_name=0)\n",
        "XDB\n",
        "XDB=XDB.dropna() #Función para evitar celdas vacias\n",
        "\n",
        "\n",
        "#Se crea el DataMart\n",
        "XD=XDB [['Weekday', 'ViolCat','ClearWeather','Month','Daylight']]\n",
        "XD\n",
        "yd=XDB [['Highway']] #Valor Deseado\n",
        "yd\n",
        "\n",
        "conteo=yd.value_counts()\n",
        "porcentaje_categorias=(conteo/len(XD))*100\n",
        "print(porcentaje_categorias)"
      ]
    },
    {
      "cell_type": "markdown",
      "metadata": {
        "id": "GCk3meHvvjSE"
      },
      "source": [
        "2. Se procede con la configuración y evaluación del modelo Naive Bayes (Autopista/Highways)\n"
      ]
    },
    {
      "cell_type": "code",
      "execution_count": null,
      "metadata": {
        "colab": {
          "base_uri": "https://localhost:8080/"
        },
        "id": "Fn_2SElmvvxv",
        "outputId": "0e56fd1e-9b4d-4cef-e9cd-4a5559a22640"
      },
      "outputs": [
        {
          "output_type": "stream",
          "name": "stdout",
          "text": [
            "Las medias de las variables son:\n",
            " [[3.90307801 6.79464607 0.89238754 6.67500217 0.69460758]\n",
            " [3.92883161 4.45913888 0.86345382 6.68867719 0.69487251]]\n",
            "Los valores de las desviaciones son:\n",
            " [[1.93312956 3.60184338 0.30989035 3.36048976 0.46057345]\n",
            " [1.91313258 2.47514729 0.34336764 3.33713602 0.46046142]]\n",
            "Los limites superiores para las variables son:\n",
            " [[ 5.83620757 10.39648945  1.20227789 10.03549193  1.15518103]\n",
            " [ 5.84196418  6.93428617  1.20682146 10.02581321  1.15533393]]\n",
            "Los limites inferiores para las variables son:\n",
            " [[1.96994846 3.1928027  0.58249719 3.31451241 0.23403413]\n",
            " [2.01569903 1.98399159 0.52008618 3.35154117 0.2344111 ]]\n",
            "La matriz de confusión es:\n",
            " [[76765  3774]\n",
            " [29191  2930]]\n",
            "VN= 76765\n",
            "FP= 3774\n",
            "FN= 29191\n",
            "VP= 2930\n",
            "La exactitud del modelo es:\n",
            " 0.7073939286348304\n",
            "La tasa de error del modelo es:\n",
            " 0.29260607136516953\n",
            "La sensibilidad del modelo es:\n",
            " 0.4370525059665871\n",
            "La especificidad del modelo es:\n",
            " 0.9531407144364842\n",
            "La precisión del modelo es:\n",
            " 0.4370525059665871\n",
            "La predicción negativa del modelo es:\n",
            " 0.7244988485786553\n",
            "La predicción positiva del modelo es:\n",
            " 0.4370525059665871\n",
            "La predicción si una persona tendra un accidente automovilistico es:\n",
            " [0]\n"
          ]
        }
      ],
      "source": [
        "from re import X\n",
        "from functools import cmp_to_key\n",
        "mnb=GaussianNB()\n",
        "mnb.fit(XD,yd)\n",
        "\n",
        "#Analizamos los resultados arrojados por el modelo\n",
        "u=mnb.theta_  #Son las medias\n",
        "print(\"Las medias de las variables son:\\n\", u)\n",
        "sigma=np.sqrt(mnb.var_)\n",
        "print(\"Los valores de las desviaciones son:\\n\",sigma)\n",
        "\n",
        "#Se procede con el análisis de las variacioens de las variables\n",
        "LS=u+sigma\n",
        "print(\"Los limites superiores para las variables son:\\n\",LS)\n",
        "LI=u-sigma\n",
        "print(\"Los limites inferiores para las variables son:\\n\",LI)\n",
        "\n",
        "#Se procede con la evaluación del comportamiento del modelo\n",
        "#Prediciendo los valores de preaprobación del valor deseado\n",
        "ydp=mnb.predict(XD) #Hizo el pronóstico de la Preaprobación para los solicitantes\n",
        "\n",
        "cm=confusion_matrix(yd,ydp)\n",
        "print(\"La matriz de confusión es:\\n\",cm)\n",
        "VN=cm[0,0]\n",
        "FP=cm[0,1]\n",
        "FN=cm[1,0]\n",
        "VP=cm[1,1]\n",
        "print(\"VN=\",VN)\n",
        "print(\"FP=\",FP)\n",
        "print(\"FN=\",FN)\n",
        "print(\"VP=\",VP)\n",
        "\n",
        "#Exactitud\n",
        "Ex=(VP+VN)/len(XD)\n",
        "print(\"La exactitud del modelo es:\\n\",Ex)\n",
        "\n",
        "#Tasa de Error\n",
        "Ter=(FP+FN)/len(XD)\n",
        "print(\"La tasa de error del modelo es:\\n\",Ter)\n",
        "\n",
        "#Sensibilidad\n",
        "Sen=VP/(VP+FP)\n",
        "print(\"La sensibilidad del modelo es:\\n\",Sen)\n",
        "\n",
        "#Especificidad\n",
        "Esp=VN/(VN+FP)\n",
        "print(\"La especificidad del modelo es:\\n\",Esp)\n",
        "\n",
        "#Precisión\n",
        "Pres=VP/(VP+FP)\n",
        "print(\"La precisión del modelo es:\\n\",Pres)\n",
        "\n",
        "#Predicción Negativo\n",
        "PredNeg=VN/(VN+FN)\n",
        "print(\"La predicción negativa del modelo es:\\n\",PredNeg)\n",
        "\n",
        "#Predicción Positivo\n",
        "PredPos=VP/(VP+FP)\n",
        "print(\"La predicción positiva del modelo es:\\n\",PredPos)\n",
        "\n",
        "#Para evlauar solicitante de credito\n",
        "XSC=[[7,1,1,3,0]]\n",
        "ydsc=mnb.predict(XSC)\n",
        "print(\"La predicción si una persona tendra un accidente automovilistico es:\\n\",ydsc)\n"
      ]
    },
    {
      "cell_type": "markdown",
      "source": [
        "3. Estimación"
      ],
      "metadata": {
        "id": "AAUDtdNh7cWS"
      }
    },
    {
      "cell_type": "code",
      "source": [
        "\n",
        "XDBn=pd.read_excel(nxl, sheet_name=0)\n",
        "XDBn.dropna() #Para evitar celdas vacias\n",
        "XDBn.head(100)\n",
        "\n",
        "#Creamos el DataMart\n",
        "XDn=XDBn [['Weekday', 'ViolCat','ClearWeather','Month','Daylight']] #Variables Entrada\n",
        "ydn=XDBn[['Highway']] #Valor Deseado Aprenda el Modelo\n",
        "\n",
        "#Hacer el pronostico para todos los datos posibles\n",
        "ydpn=mnb.predict(XDn) #Hizo el pronóstico de la Preaprobación para los solicitantes\n",
        "\n",
        "#Hacer el pronostico para todos los dtaos disponibles\n",
        "ydpn=mnb.predict(XDn)\n",
        "\n",
        "#Se procede con la creación del informe\n",
        "XDsal=np.column_stack((XDn,ydpn,ydn)) #Para mostrar columnas\n",
        "df_sal=pd.DataFrame (XDsal) #Se crea una tabla\n",
        "df_sal.to_excel(\"Informe.xlsx\")#Se envia al excel"
      ],
      "metadata": {
        "id": "Y0UPiWNL1w5o",
        "colab": {
          "base_uri": "https://localhost:8080/",
          "height": 207
        },
        "outputId": "60445e4e-227c-41b0-84d3-3d748c372cac"
      },
      "execution_count": null,
      "outputs": [
        {
          "output_type": "error",
          "ename": "NameError",
          "evalue": "name 'pd' is not defined",
          "traceback": [
            "\u001b[0;31m---------------------------------------------------------------------------\u001b[0m",
            "\u001b[0;31mNameError\u001b[0m                                 Traceback (most recent call last)",
            "\u001b[0;32m<ipython-input-1-600ab8c95458>\u001b[0m in \u001b[0;36m<cell line: 1>\u001b[0;34m()\u001b[0m\n\u001b[0;32m----> 1\u001b[0;31m \u001b[0mXDBn\u001b[0m\u001b[0;34m=\u001b[0m\u001b[0mpd\u001b[0m\u001b[0;34m.\u001b[0m\u001b[0mread_excel\u001b[0m\u001b[0;34m(\u001b[0m\u001b[0mnxl\u001b[0m\u001b[0;34m,\u001b[0m \u001b[0msheet_name\u001b[0m\u001b[0;34m=\u001b[0m\u001b[0;36m0\u001b[0m\u001b[0;34m)\u001b[0m\u001b[0;34m\u001b[0m\u001b[0;34m\u001b[0m\u001b[0m\n\u001b[0m\u001b[1;32m      2\u001b[0m \u001b[0mXDBn\u001b[0m\u001b[0;34m.\u001b[0m\u001b[0mdropna\u001b[0m\u001b[0;34m(\u001b[0m\u001b[0;34m)\u001b[0m \u001b[0;31m#Para evitar celdas vacias\u001b[0m\u001b[0;34m\u001b[0m\u001b[0;34m\u001b[0m\u001b[0m\n\u001b[1;32m      3\u001b[0m \u001b[0mXDBn\u001b[0m\u001b[0;34m.\u001b[0m\u001b[0mhead\u001b[0m\u001b[0;34m(\u001b[0m\u001b[0;36m100\u001b[0m\u001b[0;34m)\u001b[0m\u001b[0;34m\u001b[0m\u001b[0;34m\u001b[0m\u001b[0m\n\u001b[1;32m      4\u001b[0m \u001b[0;34m\u001b[0m\u001b[0m\n\u001b[1;32m      5\u001b[0m \u001b[0;31m#Creamos el DataMart\u001b[0m\u001b[0;34m\u001b[0m\u001b[0;34m\u001b[0m\u001b[0m\n",
            "\u001b[0;31mNameError\u001b[0m: name 'pd' is not defined"
          ]
        }
      ]
    }
  ],
  "metadata": {
    "colab": {
      "provenance": [],
      "authorship_tag": "ABX9TyPlOHiRMnQQ09Wg38fh2LnC",
      "include_colab_link": true
    },
    "kernelspec": {
      "display_name": "Python 3",
      "name": "python3"
    },
    "language_info": {
      "name": "python"
    }
  },
  "nbformat": 4,
  "nbformat_minor": 0
}