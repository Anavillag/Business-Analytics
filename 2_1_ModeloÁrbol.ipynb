{
  "nbformat": 4,
  "nbformat_minor": 0,
  "metadata": {
    "colab": {
      "provenance": [],
      "authorship_tag": "ABX9TyMhEpVOz20nAs4NSsarjnCb",
      "include_colab_link": true
    },
    "kernelspec": {
      "name": "python3",
      "display_name": "Python 3"
    },
    "language_info": {
      "name": "python"
    }
  },
  "cells": [
    {
      "cell_type": "markdown",
      "metadata": {
        "id": "view-in-github",
        "colab_type": "text"
      },
      "source": [
        "<a href=\"https://colab.research.google.com/github/Anavillag/Business-Analytics/blob/main/2_1_Modelo%C3%81rbol.ipynb\" target=\"_parent\"><img src=\"https://colab.research.google.com/assets/colab-badge.svg\" alt=\"Open In Colab\"/></a>"
      ]
    },
    {
      "cell_type": "markdown",
      "source": [
        "**Modelo Árbol de Decisión**\n",
        "0. Se cargan las librerias de trabajo"
      ],
      "metadata": {
        "id": "HJCOiPNtw3Sv"
      }
    },
    {
      "cell_type": "code",
      "execution_count": null,
      "metadata": {
        "colab": {
          "base_uri": "https://localhost:8080/"
        },
        "id": "Qymhl4b8wRYB",
        "outputId": "44afcf4a-ab21-4104-e003-16e36de039ab"
      },
      "outputs": [
        {
          "output_type": "stream",
          "name": "stdout",
          "text": [
            "Drive already mounted at /content/drive; to attempt to forcibly remount, call drive.mount(\"/content/drive\", force_remount=True).\n"
          ]
        }
      ],
      "source": [
        "import pandas as pd\n",
        "import numpy as np\n",
        "import matplotlib.pyplot as plt\n",
        "\n",
        "#Se trae el modelo\n",
        "from sklearn.tree import DecisionTreeClassifier #Prestamo Interbibliotecario\n",
        "\n",
        "#Para llamar los archivos del Drive automaticamente - Sin tener que subirlos\n",
        "from google.colab import drive\n",
        "drive.mount('/content/drive')\n"
      ]
    },
    {
      "cell_type": "markdown",
      "source": [
        "1. Se cargan los datos desde el drive"
      ],
      "metadata": {
        "id": "y-pCUhAFy1_G"
      }
    },
    {
      "cell_type": "code",
      "source": [
        "nxl='/content/drive/MyDrive/Analítica de Negocios Ana María Villa/0. SolicitantesCrédito(USD) clase agosto 13.xlsx'\n",
        "XDB=pd.read_excel(nxl,sheet_name=1)\n",
        "XDB=XDB.dropna() #Para evitar celdas vacias (no se puede olvidar)\n",
        "XDB.head()\n",
        "\n",
        "\n",
        "#Seleccionamos las variables de interés\n",
        "XD=XDB[['Edad','Ingresos','Egresos','Monto (EAD)']]\n",
        "XD.head()\n",
        "XD=np.array(XD)\n",
        "yd=XDB[['PreApr']];yd=np.array(yd) #Variable de Salida - Convierto a la tabla\n"
      ],
      "metadata": {
        "id": "z3FJD94oy0pK"
      },
      "execution_count": null,
      "outputs": []
    },
    {
      "cell_type": "markdown",
      "source": [
        "2. Se procede conla construcción del modelo de Árbol"
      ],
      "metadata": {
        "id": "9vWldckm1gRg"
      }
    },
    {
      "cell_type": "code",
      "source": [
        "mar=DecisionTreeClassifier(criterion='gini',max_depth=4)\n",
        "mar.fit(XD,yd)\n",
        "ydp=mar.predict(XD)\n",
        "\n",
        "#Evaluamos el modelo\n",
        "from sklearn.metrics import confusion_matrix\n",
        "cm=confusion_matrix(yd,ydp)\n",
        "VN=cm[0,0];FP=cm[0,1];FN=cm[1,0];VP=cm[1,1]\n",
        "print('VN=',VN,'FP=',FP,'FN=',FN,'VP=',VP)\n",
        "\n",
        "Ex=(VP+VN)/(VP+VN+FP+FN)\n",
        "Ex  #Exactitud\n",
        "\n",
        "Se=VP/(VP+FN)\n",
        "Se  #Sensibilidad\n",
        "\n",
        "Es=VN/(VN+FP)\n",
        "Es  #Especificidad\n",
        "\n",
        "print('Exactitud:',Ex)\n",
        "print('Sensibilidad:',Se)\n",
        "print('Especificidad:',Es)"
      ],
      "metadata": {
        "colab": {
          "base_uri": "https://localhost:8080/"
        },
        "id": "LGN9eWk51nmE",
        "outputId": "255cc43d-ae73-48ad-fa52-43e8a3bbbee7"
      },
      "execution_count": null,
      "outputs": [
        {
          "output_type": "stream",
          "name": "stdout",
          "text": [
            "VN= 2301 FP= 658 FN= 644 VP= 2239\n",
            "Exactitud: 0.7771311194796303\n",
            "Sensibilidad: 0.7766215747485259\n",
            "Especificidad: 0.7776275768840825\n"
          ]
        }
      ]
    },
    {
      "cell_type": "markdown",
      "source": [
        "3. Se procede con la visualización del Árbol"
      ],
      "metadata": {
        "id": "TmHhyloP5Z37"
      }
    },
    {
      "cell_type": "code",
      "source": [
        "from sklearn.tree import export_graphviz  #Estructura del Árbol\n",
        "from pydotplus import graph_from_dot_data  #Que datos le voy a colocar al árbol\n",
        "\n",
        "vs=['Edad','Ingresos','Egresos','Monto (EAD)'] #Estos nombres aparecen en el árbol\n",
        "\n",
        "dot_data=export_graphviz(mar,feature_names=vs) #Asegurar nombres del gráfico\n",
        "graph=graph_from_dot_data(dot_data)  #Se hace el gráfico del Árbol\n",
        "graph.write_png('arbol.png') #Se crea la imagen\n",
        "\n"
      ],
      "metadata": {
        "colab": {
          "base_uri": "https://localhost:8080/"
        },
        "id": "c8vZKkF45oFV",
        "outputId": "e91c4cd5-53a6-4cdf-b312-ca48ec44583f"
      },
      "execution_count": null,
      "outputs": [
        {
          "output_type": "execute_result",
          "data": {
            "text/plain": [
              "True"
            ]
          },
          "metadata": {},
          "execution_count": 11
        }
      ]
    },
    {
      "cell_type": "markdown",
      "source": [
        "4. Le calculamos los valores de preaprobación a los solicitantes nuevos"
      ],
      "metadata": {
        "id": "z7-QZJh8BHKt"
      }
    },
    {
      "cell_type": "code",
      "source": [
        "XDB2=pd.read_excel(nxl,sheet_name=2)\n",
        "XDB2=XDB2[['Edad','Ingresos','Egresos','Monto (EAD)']]\n",
        "XDB2=XDB2.dropna() #Para evitar celdas vacias (no se puede olvidar)\n",
        "XDB2.head()\n",
        "\n",
        "XD2=np.array(XDB2)\n",
        "ydp2=mar.predict(XD2)\n",
        "XDB2['PreApr']=ydp2 #Le pego la columna a la base de datos\n",
        "XDB2.head()\n",
        "\n",
        "XDB2.to_excel('SolicitantesPreApr.xlsx')\n",
        "\n",
        "np.sum(ydp2)\n"
      ],
      "metadata": {
        "colab": {
          "base_uri": "https://localhost:8080/"
        },
        "id": "sRmgYRhUBMkp",
        "outputId": "584dbbaf-74bd-4ca0-c8f2-bcdef23d8027"
      },
      "execution_count": null,
      "outputs": [
        {
          "output_type": "execute_result",
          "data": {
            "text/plain": [
              "1260"
            ]
          },
          "metadata": {},
          "execution_count": 18
        }
      ]
    },
    {
      "cell_type": "markdown",
      "source": [
        "**Análisis**\n",
        "\n",
        "En la base datos se puede observar un total de 5842 solicitantes de credito divididos en 2959 solicitantes preaprobados (51%) y un total de 2883 solicitantes prenegados (49%). De acuerdo conm lo anterior, el modelo del árbol arrojo un inidce de exactitud cercano al 77%, asi como indices de Sensibilidad cercanos al 77% igualmente y que muestran el comportamiento del modelo frente a la clasifficación de solicitantes PreAprobados. Este mismo porcentaje e promeido se puede observar frente al indice de especificidad el cual mide el comportamiento del modelo en la clasificación de solicitantes PreNegados. Es importante mencionar que un modelo que exhiba valores de exactitud (accuracy) por encima del 75%, es ocnsiderado un modelo aceptable para el prónostico de los datos. Para la base de datos de solicitantes nuevos (2536 solicitantes), se puede observar que el modelo clasififco un total de 1260 solicitantes (%) en la categoria de preaprobados y un total de 1276(%) en la categoria de negados. Lo anterior muestra la predominancia del modelo por la clasificación de la categoria de prenegados."
      ],
      "metadata": {
        "id": "Es0IF5KvDoKh"
      }
    }
  ]
}