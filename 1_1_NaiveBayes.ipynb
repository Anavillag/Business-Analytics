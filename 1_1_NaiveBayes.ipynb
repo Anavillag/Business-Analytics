{
  "nbformat": 4,
  "nbformat_minor": 0,
  "metadata": {
    "colab": {
      "provenance": [],
      "authorship_tag": "ABX9TyMfvYwFWyLhE3iY9LIUmcel",
      "include_colab_link": true
    },
    "kernelspec": {
      "name": "python3",
      "display_name": "Python 3"
    },
    "language_info": {
      "name": "python"
    }
  },
  "cells": [
    {
      "cell_type": "markdown",
      "metadata": {
        "id": "view-in-github",
        "colab_type": "text"
      },
      "source": [
        "<a href=\"https://colab.research.google.com/github/Anavillag/Business-Analytics/blob/main/1_1_NaiveBayes.ipynb\" target=\"_parent\"><img src=\"https://colab.research.google.com/assets/colab-badge.svg\" alt=\"Open In Colab\"/></a>"
      ]
    },
    {
      "cell_type": "markdown",
      "source": [
        "**Modelo Niave Bayes - Preaprobación Creditos**\n",
        "0. Cargar las librerias de trabajo"
      ],
      "metadata": {
        "id": "dfwFNC1arGHN"
      }
    },
    {
      "cell_type": "code",
      "execution_count": null,
      "metadata": {
        "id": "_U5IXxZZqkVk"
      },
      "outputs": [],
      "source": [
        "import numpy as np #Funciones matemáticas\n",
        "import pandas as pd #Conexión con archivos de excel\n",
        "\n",
        "from sklearn.naive_bayes import GaussianNB #Modelo Gaussian Naive Bayes\n",
        "from sklearn.metrics import confusion_matrix #Metricas- Como lo voy a evaluar\n"
      ]
    },
    {
      "cell_type": "markdown",
      "source": [
        "1. Se procede con la carga de los datos"
      ],
      "metadata": {
        "id": "wDKP1x_BsZcY"
      }
    },
    {
      "cell_type": "code",
      "source": [
        "nxl='/content/0. SolicitantesCrédito(USD)_NAIVE BAYES  M.xlsx'\n",
        "XDB=pd.read_excel(nxl, sheet_name=1)\n",
        "XDB.dropna() #Para evitar celdas vacias\n",
        "XDB.head(100)\n",
        "\n",
        "#Creamos el DataMart\n",
        "XD=XDB [['Edad','Ingresos','Egresos','Cuota (COP)']] #Variables Entrada\n",
        "yd=XDB[['PreApr']] #Valor Deseado Aprenda el Modelo"
      ],
      "metadata": {
        "id": "ySTfBA05tOrc"
      },
      "execution_count": null,
      "outputs": []
    },
    {
      "cell_type": "markdown",
      "source": [
        "2. Se procede con la configuración y evaluación del modelo Naive BAyes (PreAprob)\n"
      ],
      "metadata": {
        "id": "adAtc8PXvJpm"
      }
    },
    {
      "cell_type": "code",
      "source": [
        "from re import X\n",
        "from functools import cmp_to_key\n",
        "mnb=GaussianNB()\n",
        "mnb.fit(XD,yd)\n",
        "\n",
        "#Analizamos los resultados arrojados por el modelo\n",
        "u=mnb.theta_  #Son las medias\n",
        "print(\"Las medias de las variables son:\\n\", u)\n",
        "sigma=np.sqrt(mnb.var_)\n",
        "print(\"Los valores de las desviaciones son:\\n\",sigma)\n",
        "\n",
        "#Se procede con el análisis de las variacioens de las variables\n",
        "LS=u+sigma\n",
        "print(\"Los limites superiores para las variables son:\\n\",LS)\n",
        "LI=u-sigma\n",
        "print(\"Los limites inferiores para las variables son:\\n\",LI)\n",
        "\n",
        "#Se procede con la evaluación del comportamiento del modelo\n",
        "#Prediciendo los valores de preaprobación del valor deseado\n",
        "ydp=mnb.predict(XD) #Hizo el pronóstico de la Preaprobación para los solicitantes\n",
        "\n",
        "cm=confusion_matrix(yd,ydp)\n",
        "print(\"La matriz de confusión es:\\n\",cm)\n",
        "VN=cm[0,0];FP=cm[0,1];FN=cm[1,0];VP=cm[1,1]\n",
        "\n",
        "#Exactitud\n",
        "Ex=(VP+VN)/len(XD)\n",
        "print(\"La exactitud del modelo es:\\n\",Ex)\n",
        "\n",
        "#Tasa de Error\n",
        "Ter=(FP+FN)/len(XD)\n",
        "print(\"La tasa de error del modelo es:\\n\",Ter)\n",
        "\n",
        "#Sensibilidad\n",
        "Sen=VP/(VP+FN)\n",
        "print(\"La sensibilidad del modelo es:\\n\",Sen)\n",
        "\n",
        "#Especificidad\n",
        "Esp=VN/(VN+FN)\n",
        "print(\"La especificidad del modelo es:\\n\",Esp)\n",
        "\n",
        "#Precisión\n",
        "Pres=VP/(VP+FP)\n",
        "print(\"La precisión del modelo es:\\n\",Pres)\n",
        "\n",
        "#Predicción Negativo\n",
        "PredNeg=VN/(VN+FN)\n",
        "print(\"La predicción negativa del modelo es:\\n\",PredNeg)\n",
        "\n",
        "#Predicción Positivo\n",
        "PredPos=VP/(VP+FP)\n",
        "print(\"La predicción positiva del modelo es:\\n\",PredPos)\n",
        "\n",
        "#Para evlauar solicitante de credito\n",
        "XSC=[[37,517,629,10]]\n",
        "ydsc=mnb.predict(XSC)\n",
        "print(\"La predicción si una persona tendra un accidente automovilistico es:\\n\",ydsc)\n"
      ],
      "metadata": {
        "colab": {
          "base_uri": "https://localhost:8080/"
        },
        "id": "nlqvf4oOvSsP",
        "outputId": "5d6162b2-96ed-406e-faa7-ba7e1794d6ac"
      },
      "execution_count": null,
      "outputs": [
        {
          "output_type": "stream",
          "name": "stdout",
          "text": [
            "Las medias de las variables son:\n",
            " [[  40.98411626  431.42680644  401.54995644   16.88529983]\n",
            " [  41.10752688 1029.98947251  900.19312144   43.3269839 ]]\n",
            "Los valores de las desviaciones son:\n",
            " [[ 12.21303268 325.79791497 342.77286087  29.76942752]\n",
            " [ 12.25106493 472.43342807 525.43337837  64.98135094]]\n",
            "Los limites superiores para las variables son:\n",
            " [[  53.19714893  757.22472141  744.32281731   46.65472735]\n",
            " [  53.35859181 1502.42290058 1425.62649981  108.30833484]]\n",
            "Los limites inferiores para las variables son:\n",
            " [[ 28.77108358 105.62889147  58.77709557 -12.88412769]\n",
            " [ 28.85646196 557.55604444 374.75974307 -21.65436704]]\n",
            "La matriz de confusión es:\n",
            " [[2563  396]\n",
            " [1192 1691]]\n",
            "La exactitud del modelo es:\n",
            " 0.7281752824375214\n",
            "La tasa de error del modelo es:\n",
            " 0.2718247175624786\n",
            "La sensibilidad del modelo es:\n",
            " 0.5865417967395075\n",
            "La especificidad del modelo es:\n",
            " 0.6825565912117177\n",
            "La precisión del modelo es:\n",
            " 0.8102539530426449\n",
            "La predicción negativa del modelo es:\n",
            " 0.6825565912117177\n",
            "La predicción positiva del modelo es:\n",
            " 0.8102539530426449\n",
            "La predicción del solicitante es:\n",
            " [0]\n"
          ]
        },
        {
          "output_type": "stream",
          "name": "stderr",
          "text": [
            "/usr/local/lib/python3.10/dist-packages/sklearn/utils/validation.py:1183: DataConversionWarning: A column-vector y was passed when a 1d array was expected. Please change the shape of y to (n_samples, ), for example using ravel().\n",
            "  y = column_or_1d(y, warn=True)\n",
            "/usr/local/lib/python3.10/dist-packages/sklearn/base.py:465: UserWarning: X does not have valid feature names, but GaussianNB was fitted with feature names\n",
            "  warnings.warn(\n"
          ]
        }
      ]
    },
    {
      "cell_type": "markdown",
      "source": [
        "3. Se procede con la estimación de la preaprobación para los solicitantes nuevos"
      ],
      "metadata": {
        "id": "gONs98hN9e1J"
      }
    },
    {
      "cell_type": "code",
      "source": [
        "XDBn=pd.read_excel(nxl, sheet_name=0)\n",
        "XDBn.dropna() #Para evitar celdas vacias\n",
        "XDBn.head(100)\n",
        "\n",
        "#Creamos el DataMart\n",
        "XDn=XDBn [['Edad','Ingresos','Egresos','Cuota (COP)']] #Variables Entrada\n",
        "ydn=XDBn[['PreApr']] #Valor Deseado Aprenda el Modelo\n",
        "\n",
        "#Hacer el pronostico para todos los datos posibles\n",
        "ydpn=mnb.predict(XDn) #Hizo el pronóstico de la Preaprobación para los solicitantes\n",
        "\n",
        "#Hacer el pronostico para todos los dtaos disponibles\n",
        "ydpn=mnb.predict(XDn)\n",
        "\n",
        "#Se procede con la creación del informe\n",
        "XDsal=np.column_stack((XDn,ydpn,ydn)) #Para mostrar columnas\n",
        "df_sal=pd.DataFrame (XDsal) #Se crea una tabla\n",
        "df_sal.to_excel(\"Informe.xlsx\")#Se envia al excel\n",
        "\n"
      ],
      "metadata": {
        "id": "oWBkIgnG9ncJ"
      },
      "execution_count": null,
      "outputs": []
    },
    {
      "cell_type": "markdown",
      "source": [
        "**Análisis de Resultados**\n",
        "\n",
        "Los resultados por el modelo propuesto frente al pronóstico de la PreAprobación, mostró que la precisión alvanzó un porcentaje del 72% lo que indica que de un total de 100 solicitantes de crédito el modelo tienda a equivocarse en 28 solicitudes de crédito. Según la métrica de sensibilidad la cual alcanzó valor 58% frente a la aprobación y una especificidad del 86% frente a la prenegación de créditos, lo que muestra que el modelo funciona mejor para PreNegar créditos que para PreAprobarlos. Es importante para tener en cuenta que el modelo arroja un informe de resultados en donde se evalua la PreAprobación para la totalidad de los solicitantes de crédito, tanto los activos como los nuevos solicitantes. Como información adicional la base de datos es posee un total de 2883 solicitantes de creditos PreAprobados y un total de 2959 solicitantes de crédito PreNegados.\n"
      ],
      "metadata": {
        "id": "72o5RxK4A4Ub"
      }
    }
  ]
}